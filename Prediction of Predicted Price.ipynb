{
 "cells": [
  {
   "cell_type": "code",
   "execution_count": 1,
   "metadata": {},
   "outputs": [],
   "source": [
    "import pandas as pd"
   ]
  },
  {
   "cell_type": "code",
   "execution_count": 2,
   "metadata": {},
   "outputs": [],
   "source": [
    "data = pd.read_excel('historical_data.xlsx')"
   ]
  },
  {
   "cell_type": "code",
   "execution_count": 3,
   "metadata": {},
   "outputs": [
    {
     "data": {
      "text/html": [
       "<div>\n",
       "<style scoped>\n",
       "    .dataframe tbody tr th:only-of-type {\n",
       "        vertical-align: middle;\n",
       "    }\n",
       "\n",
       "    .dataframe tbody tr th {\n",
       "        vertical-align: top;\n",
       "    }\n",
       "\n",
       "    .dataframe thead th {\n",
       "        text-align: right;\n",
       "    }\n",
       "</style>\n",
       "<table border=\"1\" class=\"dataframe\">\n",
       "  <thead>\n",
       "    <tr style=\"text-align: right;\">\n",
       "      <th></th>\n",
       "      <th>symbol</th>\n",
       "      <th>date_txn</th>\n",
       "      <th>close_price</th>\n",
       "      <th>predicted_price</th>\n",
       "    </tr>\n",
       "  </thead>\n",
       "  <tbody>\n",
       "    <tr>\n",
       "      <th>0</th>\n",
       "      <td>AAL</td>\n",
       "      <td>2014-12-02</td>\n",
       "      <td>47.55</td>\n",
       "      <td>47.93</td>\n",
       "    </tr>\n",
       "    <tr>\n",
       "      <th>1</th>\n",
       "      <td>AAL</td>\n",
       "      <td>2014-12-03</td>\n",
       "      <td>47.93</td>\n",
       "      <td>49.33</td>\n",
       "    </tr>\n",
       "    <tr>\n",
       "      <th>2</th>\n",
       "      <td>AAL</td>\n",
       "      <td>2014-12-04</td>\n",
       "      <td>49.33</td>\n",
       "      <td>50.68</td>\n",
       "    </tr>\n",
       "    <tr>\n",
       "      <th>3</th>\n",
       "      <td>AAL</td>\n",
       "      <td>2014-12-05</td>\n",
       "      <td>50.68</td>\n",
       "      <td>50.50</td>\n",
       "    </tr>\n",
       "    <tr>\n",
       "      <th>4</th>\n",
       "      <td>AAL</td>\n",
       "      <td>2014-12-08</td>\n",
       "      <td>50.50</td>\n",
       "      <td>48.00</td>\n",
       "    </tr>\n",
       "  </tbody>\n",
       "</table>\n",
       "</div>"
      ],
      "text/plain": [
       "  symbol   date_txn  close_price  predicted_price\n",
       "0    AAL 2014-12-02        47.55            47.93\n",
       "1    AAL 2014-12-03        47.93            49.33\n",
       "2    AAL 2014-12-04        49.33            50.68\n",
       "3    AAL 2014-12-05        50.68            50.50\n",
       "4    AAL 2014-12-08        50.50            48.00"
      ]
     },
     "execution_count": 3,
     "metadata": {},
     "output_type": "execute_result"
    }
   ],
   "source": [
    "data.head()"
   ]
  },
  {
   "cell_type": "code",
   "execution_count": 4,
   "metadata": {},
   "outputs": [
    {
     "data": {
      "text/plain": [
       "(1048575, 4)"
      ]
     },
     "execution_count": 4,
     "metadata": {},
     "output_type": "execute_result"
    }
   ],
   "source": [
    "data.shape"
   ]
  },
  {
   "cell_type": "code",
   "execution_count": 5,
   "metadata": {},
   "outputs": [
    {
     "data": {
      "text/plain": [
       "symbol               0\n",
       "date_txn             0\n",
       "close_price          0\n",
       "predicted_price    777\n",
       "dtype: int64"
      ]
     },
     "execution_count": 5,
     "metadata": {},
     "output_type": "execute_result"
    }
   ],
   "source": [
    "data.isna().sum()"
   ]
  },
  {
   "cell_type": "code",
   "execution_count": 6,
   "metadata": {},
   "outputs": [],
   "source": [
    "data.fillna(data[\"predicted_price\"].median(),inplace=True)"
   ]
  },
  {
   "cell_type": "code",
   "execution_count": 7,
   "metadata": {},
   "outputs": [
    {
     "data": {
      "text/plain": [
       "array(['AAL', 'AAOI', 'AAON', 'AAP', 'AAPL', 'ABBV', 'ABC', 'ABG', 'ABMD',\n",
       "       'ABT', 'ACAD', 'ACBI', 'ACGL', 'ACM', 'ACN', 'ACOR', 'ACRS', 'ACU',\n",
       "       'ACV', 'ADBE', 'ADI', 'ADM', 'ADP', 'ADRO', 'ADS', 'ADSK', 'ADX',\n",
       "       'ADXS', 'AEE', 'AEIS', 'AEL', 'AEO', 'AEP', 'AER', 'AES', 'AFL',\n",
       "       'AGG', 'AGIO', 'AGNC', 'AGQ', 'AGR', 'AGRX', 'AGX', 'AI', 'AIG',\n",
       "       'AIRT', 'AIT', 'AIV', 'AIZ', 'AJG', 'AKAM', 'AKBA', 'AKER', 'AKR',\n",
       "       'AL', 'ALB', 'ALE', 'ALGN', 'ALK', 'ALKS', 'ALL', 'ALLE', 'ALLY',\n",
       "       'ALNY', 'ALSN', 'ALV', 'ALXN', 'AMAT', 'AMBC', 'AMD', 'AME', 'AMG',\n",
       "       'AMGN', 'AMH', 'AMP', 'AMRC', 'AMRK', 'AMSF', 'AMSWA', 'AMT',\n",
       "       'AMWD', 'AMZN', 'AN', 'ANDE', 'ANET', 'ANIK', 'ANSS', 'ANTM',\n",
       "       'AON', 'AOS', 'APA', 'APAM', 'APD', 'APH', 'APO', 'APOG', 'APPF',\n",
       "       'AR', 'ARC', 'ARCC', 'ARDX', 'ARI', 'ARL', 'ARLP', 'ARMK', 'ARTW',\n",
       "       'ARW', 'ASA', 'ASFI', 'ASMB', 'ASRV', 'ATI', 'ATR', 'ATRA', 'ATVI',\n",
       "       'AVA', 'AVAV', 'AVB', 'AVGO', 'AVY', 'AWF', 'AWR', 'AXDX', 'AXE',\n",
       "       'AXP', 'AYI', 'AYR', 'AZO', 'B', 'BA', 'BABA', 'BAC', 'BANF',\n",
       "       'BANR', 'BAX', 'BBBY', 'BBY', 'BC', 'BCBP', 'BCC', 'BCRH', 'BCRX',\n",
       "       'BDX', 'BECN', 'BEN', 'BFAM', 'BFK', 'BGB', 'BGG', 'BHB', 'BHLB',\n",
       "       'BIDU', 'BIIB', 'BIL', 'BIV', 'BK', 'BKD', 'BKE', 'BKEP', 'BKSC',\n",
       "       'BKU', 'BLCM', 'BLE', 'BLK', 'BLKB', 'BLL', 'BLUE', 'BLV', 'BMRC',\n",
       "       'BMRN', 'BMTC', 'BMY', 'BND', 'BNED', 'BNO', 'BOCH', 'BOH', 'BOOT',\n",
       "       'BPFH', 'BR', 'BRKS', 'BRT', 'BRX', 'BSL', 'BSM', 'BSQR', 'BST',\n",
       "       'BSV', 'BSX', 'BTA', 'BTN', 'BTO', 'BURL', 'BUSE', 'BW', 'BWA',\n",
       "       'BXMT', 'BXP', 'BYD', 'BYND', 'BZH', 'BZM', 'C', 'CAC', 'CACI',\n",
       "       'CAG', 'CAH', 'CAKE', 'CAL', 'CALM', 'CAMP', 'CAR', 'CARA', 'CARO',\n",
       "       'CAT', 'CATM', 'CATY', 'CB', 'CBAN', 'CBFV', 'CBOE', 'CBSH', 'CBT',\n",
       "       'CBU', 'CBZ', 'CC', 'CCD', 'CCF', 'CCI', 'CCL', 'CCMP', 'CCOI',\n",
       "       'CCXI', 'CDNS', 'CECE', 'CEE', 'CEN', 'CENT', 'CERN', 'CET',\n",
       "       'CETV', 'CF', 'CFFI', 'CFFN', 'CFG', 'CFR', 'CFX', 'CG', 'CGNX',\n",
       "       'CHCO', 'CHD', 'CHE', 'CHEF', 'CHGG', 'CHH', 'CHI', 'CHK', 'CHKP',\n",
       "       'CHMG', 'CHRS', 'CHRW', 'CHS', 'CHSCO', 'CHTR', 'CHW', 'CHY', 'CI',\n",
       "       'CIA', 'CIEN', 'CIM', 'CINF', 'CIT', 'CIVB', 'CL', 'CLB', 'CLFD',\n",
       "       'CLGX', 'CLI', 'CLIX', 'CLNE', 'CLX', 'CMA', 'CMC', 'CMCSA', 'CME',\n",
       "       'CMG', 'CMI', 'CMP', 'CMPR', 'CMRX', 'CMS', 'CNA', 'CNC', 'CNMD',\n",
       "       'CNOB', 'CNP', 'CNSL', 'CNTY', 'CNX', 'CNY', 'CODI', 'COF', 'COG',\n",
       "       'COHR', 'COLM', 'COMM', 'CONE', 'CONN', 'COP', 'COR', 'CORE',\n",
       "       'CORN', 'CORR', 'CORT', 'COST', 'CPB', 'CPE', 'CPF', 'CPK', 'CPRX',\n",
       "       'CPT', 'CR', 'CREE', 'CRI', 'CRL', 'CRM', 'CROC', 'CRON', 'CRTO',\n",
       "       'CRUS', 'CRVL', 'CRY', 'CSCO', 'CSII', 'CSL', 'CSLT', 'CSOD',\n",
       "       'CSQ', 'CSV', 'CSWC', 'CSWI', 'CSX', 'CTAS', 'CTB', 'CTL', 'CTO',\n",
       "       'CTSH', 'CTSO', 'CTXS', 'CUB', 'CUK', 'CURE', 'CUZ', 'CVA', 'CVBF',\n",
       "       'CVGI', 'CVLT', 'CVS', 'CVTI', 'CVX', 'CW', 'CWT', 'CXO', 'CXW',\n",
       "       'CY', 'CYB', 'CYH', 'D', 'DAL', 'DB', 'DBA', 'DBB', 'DBC', 'DBD',\n",
       "       'DBE', 'DBO', 'DBP', 'DBV', 'DCI', 'DCOM', 'DDM', 'DDS', 'DE',\n",
       "       'DEI', 'DFS', 'DG', 'DGICA', 'DGL', 'DGX', 'DHI', 'DHR', 'DHX',\n",
       "       'DHY', 'DIA', 'DIG', 'DIN', 'DIOD', 'DIS', 'DISCA', 'DISCK',\n",
       "       'DISH', 'DK', 'DKL', 'DKS', 'DLB', 'DLPH', 'DLR', 'DLTH', 'DLTR',\n",
       "       'DMRC', 'DNP', 'DO', 'DOG', 'DORM', 'DOV', 'DPG', 'DPST', 'DPZ',\n",
       "       'DRE', 'DRI', 'DRR', 'DRRX', 'DSE', 'DSPG', 'DSU', 'DTE', 'DUG',\n",
       "       'DUK', 'DUSL', 'DVA', 'DVN', 'DXCM', 'DXD', 'DXLG', 'DXPE', 'EA',\n",
       "       'EAT', 'EBAY', 'EBIX', 'EBMT', 'EBS', 'EBSB', 'ECHO', 'ECL',\n",
       "       'ECPG', 'ED', 'EEFT', 'EFX', 'EGHT', 'EGIF', 'EGOV', 'EGP', 'EGRX',\n",
       "       'EIX', 'EL', 'ELGX', 'ELMD', 'ELY', 'EMIF', 'EMKR', 'EMN', 'EMR',\n",
       "       'ENBL', 'ENDP', 'ENPH', 'ENSG', 'ENTA', 'ENV', 'ENVA', 'EOG',\n",
       "       'EPAM', 'EPAY', 'EPD', 'EPM', 'EPR', 'EPZM', 'EQIX', 'EQR', 'EQT',\n",
       "       'ERC', 'ES', 'ESNT', 'ESPR', 'ESRT', 'ESS', 'ESTE', 'ESXB', 'ETFC',\n",
       "       'ETH', 'ETN', 'ETR', 'ETSY', 'EUFX', 'EUO', 'EV', 'EVOK', 'EVR',\n",
       "       'EVY', 'EW', 'EWBC', 'EXAS', 'EXC', 'EXLS', 'EXPD', 'EXPE', 'EXPO',\n",
       "       'EXR', 'EXTR', 'EYES', 'F', 'FANG', 'FAST', 'FB', 'FBHS', 'FBIZ',\n",
       "       'FBNC', 'FCBC', 'FCCO', 'FCCY', 'FCNCA', 'FCT', 'FCX', 'FDP',\n",
       "       'FDS', 'FDX', 'FE', 'FELE', 'FFBC', 'FFIN', 'FFIV', 'FGEN', 'FHN',\n",
       "       'FICO', 'FINU', 'FIS', 'FISI', 'FISV', 'FIT', 'FITB', 'FIX',\n",
       "       'FLEX', 'FLIR', 'FLO', 'FLOW', 'FLR', 'FLS', 'FMBH', 'FMC', 'FMNB',\n",
       "       'FMO', 'FN', 'FNB', 'FNF', 'FOSL', 'FOX', 'FOXA', 'FPF', 'FPRX',\n",
       "       'FR', 'FRBK', 'FRME', 'FRPT', 'FRT', 'FSFG', 'FSLR', 'FSP', 'FSS',\n",
       "       'FTF', 'FTI', 'FTK', 'FTNT', 'FTR', 'FUE', 'FULT', 'FUN', 'FUND',\n",
       "       'FVRR', 'FXA', 'FXB', 'FXC', 'FXE', 'FXF', 'FXG', 'FXY', 'G',\n",
       "       'GABC', 'GAIN', 'GAM', 'GBCI', 'GBF', 'GBL', 'GBT', 'GBX', 'GCAP',\n",
       "       'GCBC', 'GCI', 'GD', 'GDL', 'GDOT', 'GE', 'GEL', 'GEO', 'GER',\n",
       "       'GFN', 'GFNCP', 'GGG', 'GGM', 'GILD', 'GIS', 'GLBS', 'GLBZ', 'GLD',\n",
       "       'GLP', 'GLPI', 'GLT', 'GLUU', 'GLV', 'GLW', 'GM', 'GME', 'GMED',\n",
       "       'GMZ', 'GNMK', 'GNW', 'GOF', 'GOOD', 'GOOG', 'GOOGL', 'GPC', 'GPN',\n",
       "       'GPS', 'GRMN', 'GRPN', 'GS', 'GSB', 'GSBC', 'GSBD', 'GSIT', 'GT',\n",
       "       'GTT', 'GVA', 'GVI', 'GWB', 'GWRE', 'GWW', 'HA', 'HAFC', 'HAL',\n",
       "       'HAS', 'HBAN', 'HBI', 'HBIO', 'HCA', 'HCKT', 'HCSG', 'HD', 'HEAR',\n",
       "       'HELE', 'HES', 'HFC', 'HFWA', 'HHC', 'HIG', 'HII', 'HLIT', 'HMHC',\n",
       "       'HMTV', 'HOG', 'HOMB', 'HON', 'HP', 'HPF', 'HPI', 'HPP', 'HPQ',\n",
       "       'HPS', 'HQH', 'HQY', 'HR', 'HRB', 'HRL', 'HSC', 'HSIC', 'HST',\n",
       "       'HSY', 'HTBK', 'HTD', 'HTY', 'HUBB', 'HUBG', 'HUBS', 'HUM', 'HURN',\n",
       "       'HWKN', 'HY', 'HYG', 'HZNP', 'IAU', 'IBM', 'ICCC', 'ICE', 'ICFI',\n",
       "       'ICPT', 'ICUI', 'IDA', 'IDCC', 'IDXX', 'IEC', 'IEF', 'IEI', 'IEX',\n",
       "       'IEZ', 'IFF', 'IIIN', 'ILMN', 'IMAX', 'IMGN', 'IMH', 'INAP',\n",
       "       'INCY', 'INGN', 'INGR', 'INSM', 'INT', 'INTC', 'INTL', 'INTU',\n",
       "       'IO', 'IONS', 'IOSP', 'IP', 'IPG', 'IPHI', 'IPWR', 'IR', 'IRDM',\n",
       "       'IRM', 'IRMD', 'ISBC', 'ISRG', 'ISTR', 'IT', 'ITCI', 'ITRI', 'ITW',\n",
       "       'IVC', 'IVV', 'IVZ', 'IWR', 'JAGX', 'JAKK', 'JAX', 'JAZZ', 'JBHT',\n",
       "       'JBLU', 'JBSS', 'JCI', 'JCS', 'JD', 'JDD', 'JHS', 'JKHY', 'JLL',\n",
       "       'JMF', 'JMP', 'JNJ', 'JNPR', 'JOB', 'JPM', 'JRO', 'JWN', 'K',\n",
       "       'KAI', 'KALU', 'KBH', 'KEM', 'KEY', 'KEYS', 'KFRC', 'KFS', 'KIM',\n",
       "       'KLAC', 'KLIC', 'KMB', 'KMF'], dtype=object)"
      ]
     },
     "execution_count": 7,
     "metadata": {},
     "output_type": "execute_result"
    }
   ],
   "source": [
    "data[\"symbol\"].unique()"
   ]
  },
  {
   "cell_type": "code",
   "execution_count": 8,
   "metadata": {},
   "outputs": [
    {
     "data": {
      "text/plain": [
       "ISRG    1377\n",
       "ADX     1377\n",
       "AEP     1377\n",
       "HUM     1377\n",
       "CTL     1377\n",
       "        ... \n",
       "AMD       83\n",
       "BYND      83\n",
       "CRON      83\n",
       "BABA      83\n",
       "FVRR      10\n",
       "Name: symbol, Length: 785, dtype: int64"
      ]
     },
     "execution_count": 8,
     "metadata": {},
     "output_type": "execute_result"
    }
   ],
   "source": [
    "data[\"symbol\"].value_counts()"
   ]
  },
  {
   "cell_type": "code",
   "execution_count": 9,
   "metadata": {},
   "outputs": [],
   "source": [
    "from sklearn.preprocessing import LabelEncoder "
   ]
  },
  {
   "cell_type": "code",
   "execution_count": 10,
   "metadata": {},
   "outputs": [],
   "source": [
    "le = LabelEncoder() \n",
    "  \n",
    "data['symbol']= le.fit_transform(data['symbol'])"
   ]
  },
  {
   "cell_type": "code",
   "execution_count": 11,
   "metadata": {},
   "outputs": [
    {
     "data": {
      "text/html": [
       "<div>\n",
       "<style scoped>\n",
       "    .dataframe tbody tr th:only-of-type {\n",
       "        vertical-align: middle;\n",
       "    }\n",
       "\n",
       "    .dataframe tbody tr th {\n",
       "        vertical-align: top;\n",
       "    }\n",
       "\n",
       "    .dataframe thead th {\n",
       "        text-align: right;\n",
       "    }\n",
       "</style>\n",
       "<table border=\"1\" class=\"dataframe\">\n",
       "  <thead>\n",
       "    <tr style=\"text-align: right;\">\n",
       "      <th></th>\n",
       "      <th>symbol</th>\n",
       "      <th>date_txn</th>\n",
       "      <th>close_price</th>\n",
       "      <th>predicted_price</th>\n",
       "    </tr>\n",
       "  </thead>\n",
       "  <tbody>\n",
       "    <tr>\n",
       "      <th>0</th>\n",
       "      <td>0</td>\n",
       "      <td>2014-12-02</td>\n",
       "      <td>47.55</td>\n",
       "      <td>47.93</td>\n",
       "    </tr>\n",
       "    <tr>\n",
       "      <th>1</th>\n",
       "      <td>0</td>\n",
       "      <td>2014-12-03</td>\n",
       "      <td>47.93</td>\n",
       "      <td>49.33</td>\n",
       "    </tr>\n",
       "    <tr>\n",
       "      <th>2</th>\n",
       "      <td>0</td>\n",
       "      <td>2014-12-04</td>\n",
       "      <td>49.33</td>\n",
       "      <td>50.68</td>\n",
       "    </tr>\n",
       "    <tr>\n",
       "      <th>3</th>\n",
       "      <td>0</td>\n",
       "      <td>2014-12-05</td>\n",
       "      <td>50.68</td>\n",
       "      <td>50.50</td>\n",
       "    </tr>\n",
       "    <tr>\n",
       "      <th>4</th>\n",
       "      <td>0</td>\n",
       "      <td>2014-12-08</td>\n",
       "      <td>50.50</td>\n",
       "      <td>48.00</td>\n",
       "    </tr>\n",
       "  </tbody>\n",
       "</table>\n",
       "</div>"
      ],
      "text/plain": [
       "   symbol   date_txn  close_price  predicted_price\n",
       "0       0 2014-12-02        47.55            47.93\n",
       "1       0 2014-12-03        47.93            49.33\n",
       "2       0 2014-12-04        49.33            50.68\n",
       "3       0 2014-12-05        50.68            50.50\n",
       "4       0 2014-12-08        50.50            48.00"
      ]
     },
     "execution_count": 11,
     "metadata": {},
     "output_type": "execute_result"
    }
   ],
   "source": [
    "data.head()"
   ]
  },
  {
   "cell_type": "code",
   "execution_count": 12,
   "metadata": {},
   "outputs": [
    {
     "data": {
      "text/plain": [
       "array([  0,   1,   2,   3,   4,   5,   6,   7,   8,   9,  10,  11,  12,\n",
       "        13,  14,  15,  16,  17,  18,  19,  20,  21,  22,  23,  24,  25,\n",
       "        26,  27,  28,  29,  30,  31,  32,  33,  34,  35,  36,  37,  38,\n",
       "        39,  40,  41,  42,  43,  44,  45,  46,  47,  48,  49,  50,  51,\n",
       "        52,  53,  54,  55,  56,  57,  58,  59,  60,  61,  62,  63,  64,\n",
       "        65,  66,  67,  68,  69,  70,  71,  72,  73,  74,  75,  76,  77,\n",
       "        78,  79,  80,  81,  82,  83,  84,  85,  86,  87,  88,  89,  90,\n",
       "        91,  92,  93,  94,  95,  96,  97,  98,  99, 100, 101, 102, 103,\n",
       "       104, 105, 106, 107, 108, 109, 110, 111, 112, 113, 114, 115, 116,\n",
       "       117, 118, 119, 120, 121, 122, 123, 124, 125, 126, 127, 128, 129,\n",
       "       130, 131, 132, 133, 134, 135, 136, 137, 138, 139, 140, 141, 142,\n",
       "       143, 144, 145, 146, 147, 148, 149, 150, 151, 152, 153, 154, 155,\n",
       "       156, 157, 158, 159, 160, 161, 162, 163, 164, 165, 166, 167, 168,\n",
       "       169, 170, 171, 172, 173, 174, 175, 176, 177, 178, 179, 180, 181,\n",
       "       182, 183, 184, 185, 186, 187, 188, 189, 190, 191, 192, 193, 194,\n",
       "       195, 196, 197, 198, 199, 200, 201, 202, 203, 204, 205, 206, 207,\n",
       "       208, 209, 210, 211, 212, 213, 214, 215, 216, 217, 218, 219, 220,\n",
       "       221, 222, 223, 224, 225, 226, 227, 228, 229, 230, 231, 232, 233,\n",
       "       234, 235, 236, 237, 238, 239, 240, 241, 242, 243, 244, 245, 246,\n",
       "       247, 248, 249, 250, 251, 252, 253, 254, 255, 256, 257, 258, 259,\n",
       "       260, 261, 262, 263, 264, 265, 266, 267, 268, 269, 270, 271, 272,\n",
       "       273, 274, 275, 276, 277, 278, 279, 280, 281, 282, 283, 284, 285,\n",
       "       286, 287, 288, 289, 290, 291, 292, 293, 294, 295, 296, 297, 298,\n",
       "       299, 300, 301, 302, 303, 304, 305, 306, 307, 308, 309, 310, 311,\n",
       "       312, 313, 314, 315, 316, 317, 318, 319, 320, 321, 322, 323, 324,\n",
       "       325, 326, 327, 328, 329, 330, 331, 332, 333, 334, 335, 336, 337,\n",
       "       338, 339, 340, 341, 342, 343, 344, 345, 346, 347, 348, 349, 350,\n",
       "       351, 352, 353, 354, 355, 356, 357, 358, 359, 360, 361, 362, 363,\n",
       "       364, 365, 366, 367, 368, 369, 370, 371, 372, 373, 374, 375, 376,\n",
       "       377, 378, 379, 380, 381, 382, 383, 384, 385, 386, 387, 388, 389,\n",
       "       390, 391, 392, 393, 394, 395, 396, 397, 398, 399, 400, 401, 402,\n",
       "       403, 404, 405, 406, 407, 408, 409, 410, 411, 412, 413, 414, 415,\n",
       "       416, 417, 418, 419, 420, 421, 422, 423, 424, 425, 426, 427, 428,\n",
       "       429, 430, 431, 432, 433, 434, 435, 436, 437, 438, 439, 440, 441,\n",
       "       442, 443, 444, 445, 446, 447, 448, 449, 450, 451, 452, 453, 454,\n",
       "       455, 456, 457, 458, 459, 460, 461, 462, 463, 464, 465, 466, 467,\n",
       "       468, 469, 470, 471, 472, 473, 474, 475, 476, 477, 478, 479, 480,\n",
       "       481, 482, 483, 484, 485, 486, 487, 488, 489, 490, 491, 492, 493,\n",
       "       494, 495, 496, 497, 498, 499, 500, 501, 502, 503, 504, 505, 506,\n",
       "       507, 508, 509, 510, 511, 512, 513, 514, 515, 516, 517, 518, 519,\n",
       "       520, 521, 522, 523, 524, 525, 526, 527, 528, 529, 530, 531, 532,\n",
       "       533, 534, 535, 536, 537, 538, 539, 540, 541, 542, 543, 544, 545,\n",
       "       546, 547, 548, 549, 550, 551, 552, 553, 554, 555, 556, 557, 558,\n",
       "       559, 560, 561, 562, 563, 564, 565, 566, 567, 568, 569, 570, 571,\n",
       "       572, 573, 574, 575, 576, 577, 578, 579, 580, 581, 582, 583, 584,\n",
       "       585, 586, 587, 588, 589, 590, 591, 592, 593, 594, 595, 596, 597,\n",
       "       598, 599, 600, 601, 602, 603, 604, 605, 606, 607, 608, 609, 610,\n",
       "       611, 612, 613, 614, 615, 616, 617, 618, 619, 620, 621, 622, 623,\n",
       "       624, 625, 626, 627, 628, 629, 630, 631, 632, 633, 634, 635, 636,\n",
       "       637, 638, 639, 640, 641, 642, 643, 644, 645, 646, 647, 648, 649,\n",
       "       650, 651, 652, 653, 654, 655, 656, 657, 658, 659, 660, 661, 662,\n",
       "       663, 664, 665, 666, 667, 668, 669, 670, 671, 672, 673, 674, 675,\n",
       "       676, 677, 678, 679, 680, 681, 682, 683, 684, 685, 686, 687, 688,\n",
       "       689, 690, 691, 692, 693, 694, 695, 696, 697, 698, 699, 700, 701,\n",
       "       702, 703, 704, 705, 706, 707, 708, 709, 710, 711, 712, 713, 714,\n",
       "       715, 716, 717, 718, 719, 720, 721, 722, 723, 724, 725, 726, 727,\n",
       "       728, 729, 730, 731, 732, 733, 734, 735, 736, 737, 738, 739, 740,\n",
       "       741, 742, 743, 744, 745, 746, 747, 748, 749, 750, 751, 752, 753,\n",
       "       754, 755, 756, 757, 758, 759, 760, 761, 762, 763, 764, 765, 766,\n",
       "       767, 768, 769, 770, 771, 772, 773, 774, 775, 776, 777, 778, 779,\n",
       "       780, 781, 782, 783, 784])"
      ]
     },
     "execution_count": 12,
     "metadata": {},
     "output_type": "execute_result"
    }
   ],
   "source": [
    "data[\"symbol\"].unique()"
   ]
  },
  {
   "cell_type": "code",
   "execution_count": 13,
   "metadata": {},
   "outputs": [],
   "source": [
    "data = data.drop(['date_txn'],axis=1)"
   ]
  },
  {
   "cell_type": "code",
   "execution_count": 14,
   "metadata": {},
   "outputs": [],
   "source": [
    "from sklearn.linear_model import LinearRegression\n",
    "from sklearn.metrics import r2_score\n",
    "from sklearn.model_selection import train_test_split"
   ]
  },
  {
   "cell_type": "code",
   "execution_count": 15,
   "metadata": {},
   "outputs": [],
   "source": [
    "X = data.drop([\"predicted_price\"],axis=1)\n",
    "y = data[\"predicted_price\"]"
   ]
  },
  {
   "cell_type": "code",
   "execution_count": 16,
   "metadata": {},
   "outputs": [],
   "source": [
    "from sklearn.model_selection import KFold\n",
    "from sklearn.model_selection import cross_val_score"
   ]
  },
  {
   "cell_type": "code",
   "execution_count": 17,
   "metadata": {},
   "outputs": [
    {
     "name": "stdout",
     "output_type": "stream",
     "text": [
      "[-52.47119033 -24.99259155 -23.12088967 -21.23670289 -12.9180487\n",
      " -78.73064747 -20.43940419 -23.97080186 -13.27936142 -18.2044867 ]\n"
     ]
    }
   ],
   "source": [
    "kfold = KFold(n_splits=10,shuffle=True,random_state=0)\n",
    "lr = LinearRegression()\n",
    "scoring = 'neg_mean_squared_error'\n",
    "score = cross_val_score(lr,X,y,cv=kfold,scoring=scoring)\n",
    "print(score)"
   ]
  },
  {
   "cell_type": "code",
   "execution_count": 24,
   "metadata": {},
   "outputs": [
    {
     "name": "stdout",
     "output_type": "stream",
     "text": [
      "Mean squared error  -28.94\n"
     ]
    }
   ],
   "source": [
    "import numpy as np\n",
    "print(\"Mean squared error \",round(np.mean(score),2))"
   ]
  },
  {
   "cell_type": "code",
   "execution_count": 25,
   "metadata": {},
   "outputs": [
    {
     "name": "stdout",
     "output_type": "stream",
     "text": [
      "[-0.8749182  -0.87104687 -0.86416124 -0.87933815 -0.85509711 -0.87959709\n",
      " -0.87397225 -0.86675784 -0.84647585 -0.88031843]\n"
     ]
    }
   ],
   "source": [
    "kfold = KFold(n_splits=10,shuffle=True,random_state=0)\n",
    "lr = LinearRegression()\n",
    "scoring = 'neg_mean_absolute_error'\n",
    "score1 = cross_val_score(lr,X,y,cv=kfold,scoring=scoring)\n",
    "print(score1)"
   ]
  },
  {
   "cell_type": "code",
   "execution_count": 30,
   "metadata": {},
   "outputs": [
    {
     "name": "stdout",
     "output_type": "stream",
     "text": [
      "Mean Absolute Error  -86.92\n"
     ]
    }
   ],
   "source": [
    "print(\"Mean Absolute Error \",round(np.mean(score1)*100,2))"
   ]
  },
  {
   "cell_type": "code",
   "execution_count": 27,
   "metadata": {},
   "outputs": [
    {
     "name": "stdout",
     "output_type": "stream",
     "text": [
      "[0.99438684 0.99711123 0.9974063  0.99780299 0.99855795 0.9909794\n",
      " 0.9977379  0.99733407 0.99848735 0.99804493]\n"
     ]
    }
   ],
   "source": [
    "kfold = KFold(n_splits=10,shuffle=True,random_state=0)\n",
    "lr = LinearRegression()\n",
    "scoring = 'r2'\n",
    "score2 = cross_val_score(lr,X,y,cv=kfold,scoring=scoring)\n",
    "print(score2)"
   ]
  },
  {
   "cell_type": "code",
   "execution_count": 31,
   "metadata": {},
   "outputs": [
    {
     "name": "stdout",
     "output_type": "stream",
     "text": [
      "R Squared  99.68\n"
     ]
    }
   ],
   "source": [
    "print(\"R Squared \",round(np.mean(score2)*100,2))"
   ]
  },
  {
   "cell_type": "code",
   "execution_count": 32,
   "metadata": {},
   "outputs": [],
   "source": [
    "X_train,X_test,Y_train,Y_test = train_test_split(X,y,test_size=0.20,random_state=0)"
   ]
  },
  {
   "cell_type": "code",
   "execution_count": 47,
   "metadata": {},
   "outputs": [
    {
     "data": {
      "text/plain": [
       "LinearRegression(copy_X=True, fit_intercept=True, n_jobs=None,\n",
       "         normalize=False)"
      ]
     },
     "execution_count": 47,
     "metadata": {},
     "output_type": "execute_result"
    }
   ],
   "source": [
    "lr = LinearRegression()\n",
    "lr.fit(X_train,Y_train)"
   ]
  },
  {
   "cell_type": "code",
   "execution_count": 52,
   "metadata": {},
   "outputs": [],
   "source": [
    "import pickle \n",
    "  \n",
    "pickle.dump(lr, open('model.pkl','wb')) \n",
    "lr_from_pickle = pickle.load(open('model.pkl','rb'))"
   ]
  },
  {
   "cell_type": "code",
   "execution_count": 53,
   "metadata": {},
   "outputs": [],
   "source": [
    "predict = lr_from_pickle.predict(X_test)"
   ]
  },
  {
   "cell_type": "code",
   "execution_count": 54,
   "metadata": {},
   "outputs": [
    {
     "name": "stdout",
     "output_type": "stream",
     "text": [
      "99.57\n"
     ]
    }
   ],
   "source": [
    "print(round(r2_score(Y_test,predict)*100,2))"
   ]
  },
  {
   "cell_type": "code",
   "execution_count": 55,
   "metadata": {},
   "outputs": [
    {
     "data": {
      "text/plain": [
       "array([ 22.6950624 ,  25.80212345, 327.70170071, ...,  42.44772326,\n",
       "       106.92125142,  31.45634848])"
      ]
     },
     "execution_count": 55,
     "metadata": {},
     "output_type": "execute_result"
    }
   ],
   "source": [
    "predict[:-5]"
   ]
  },
  {
   "cell_type": "code",
   "execution_count": 56,
   "metadata": {},
   "outputs": [
    {
     "data": {
      "text/plain": [
       "875680      21.97\n",
       "1046906     25.58\n",
       "646861     330.40\n",
       "704385      19.58\n",
       "798051      39.01\n",
       "            ...  \n",
       "911746      20.07\n",
       "732566       9.32\n",
       "419960      42.64\n",
       "194263     107.34\n",
       "495780      31.83\n",
       "Name: predicted_price, Length: 209710, dtype: float64"
      ]
     },
     "execution_count": 56,
     "metadata": {},
     "output_type": "execute_result"
    }
   ],
   "source": [
    "Y_test[:-5]"
   ]
  },
  {
   "cell_type": "code",
   "execution_count": 57,
   "metadata": {},
   "outputs": [],
   "source": [
    "df = pd.DataFrame(predict)\n",
    "df.to_excel(\"predicted.xlsx\",index=False)"
   ]
  },
  {
   "cell_type": "code",
   "execution_count": 58,
   "metadata": {},
   "outputs": [],
   "source": [
    "X_test.to_excel(\"test.xlsx\",index=False)"
   ]
  },
  {
   "cell_type": "code",
   "execution_count": null,
   "metadata": {},
   "outputs": [],
   "source": []
  }
 ],
 "metadata": {
  "kernelspec": {
   "display_name": "Python 3",
   "language": "python",
   "name": "python3"
  },
  "language_info": {
   "codemirror_mode": {
    "name": "ipython",
    "version": 3
   },
   "file_extension": ".py",
   "mimetype": "text/x-python",
   "name": "python",
   "nbconvert_exporter": "python",
   "pygments_lexer": "ipython3",
   "version": "3.7.1"
  }
 },
 "nbformat": 4,
 "nbformat_minor": 2
}
